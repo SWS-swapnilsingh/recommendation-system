{
  "nbformat": 4,
  "nbformat_minor": 0,
  "metadata": {
    "colab": {
      "provenance": []
    },
    "kernelspec": {
      "name": "python3",
      "display_name": "Python 3"
    },
    "language_info": {
      "name": "python"
    }
  },
  "cells": [
    {
      "cell_type": "code",
      "execution_count": 1,
      "metadata": {
        "colab": {
          "base_uri": "https://localhost:8080/"
        },
        "id": "nR2x_MzvPA0H",
        "outputId": "66c3272b-7f2c-4ac9-e90b-a5f67675b187"
      },
      "outputs": [
        {
          "output_type": "stream",
          "name": "stdout",
          "text": [
            "Mounted at /content/drive\n"
          ]
        }
      ],
      "source": [
        "#connect to google colab\n",
        "from google.colab import drive\n",
        "drive.mount('/content/drive')"
      ]
    },
    {
      "cell_type": "code",
      "execution_count": 2,
      "metadata": {
        "colab": {
          "base_uri": "https://localhost:8080/"
        },
        "id": "wCUuURX2A5Za",
        "outputId": "58e98628-13bd-404e-8126-7a8f1fa4d959",
        "collapsed": true
      },
      "outputs": [
        {
          "output_type": "stream",
          "name": "stdout",
          "text": [
            "143\n",
            "[[ 0  1  1 ...  0  0  0]\n",
            " [ 1  0  1 ...  0  0  0]\n",
            " [ 1 -1  0 ...  0  0  0]\n",
            " ...\n",
            " [ 0  0  0 ...  0  0  0]\n",
            " [ 0  0  0 ...  0  0  0]\n",
            " [ 0  0  0 ...  0  0  0]]\n"
          ]
        }
      ],
      "source": [
        "import networkx as nx\n",
        "import matplotlib.pyplot as plt\n",
        "import pandas as pd\n",
        "import numpy as np\n",
        "\n",
        "df = pd.read_csv('/content/drive/MyDrive/AIVSColabRequiredFiles/recommendation-system.csv')\n",
        "\n",
        "#Graph part\n",
        "G = nx.DiGraph()\n",
        "\n",
        "# Add nodes\n",
        "for node in list(df.iloc[1:,0]):\n",
        "    G.add_node(str(node))\n",
        "\n",
        "#adjacency list\n",
        "adj_list = {}\n",
        "\n",
        "# Add edges\n",
        "for i in range(0, len(df.index)):\n",
        "  for j in list(df.iloc[i, 1: ]):\n",
        "    if str(j) != ' ' and str(df.iloc[i, 0]) != str(j):\n",
        "      G.add_edge(str(df.iloc[i, 0]),str(j))\n",
        "      if str(df.iloc[i, 0]) in adj_list.keys():\n",
        "        adj_list[str(df.iloc[i, 0])] += [str(j)]\n",
        "      else:\n",
        "        adj_list[str(df.iloc[i, 0])] = [str(j)]\n",
        "\n",
        "'''\n",
        "# Draw the graph\n",
        "plt.figure(figsize=(100, 90))\n",
        "pos = nx.spring_layout(G)  # You can choose other layouts as well\n",
        "\n",
        "# Draw nodes and edges\n",
        "nx.draw(G, pos, with_labels=True, node_size=3000, node_color='lightblue', font_size=12, font_weight='bold', edge_color='gray')\n",
        "\n",
        "plt.title('Graph Visualization')\n",
        "plt.show()\n",
        "'''\n",
        "\n",
        "#adj_matrix\n",
        "adj_matrix = np.array([[0 for i in range(144)] for j in range(144)])\n",
        "\n",
        "#creating connection dict\n",
        "conn_dict = {}\n",
        "u = 0\n",
        "\n",
        "for i in range(0, len(df.index)):\n",
        "  for j in range(0, len(df.columns)):\n",
        "    if str(df.iloc[i, j]) not in conn_dict.keys() and str(df.iloc[i, j]) != ' ':\n",
        "      conn_dict[str(df.iloc[i, j])] = u\n",
        "      u += 1\n",
        "\n",
        "print(len(conn_dict))\n",
        "\n",
        "for k in adj_list.keys():\n",
        "  if k != ' ':\n",
        "    row = conn_dict[str(k)]\n",
        "    for item in adj_list[k]:\n",
        "      if item != ' ':\n",
        "        col = conn_dict[str(item)]\n",
        "        adj_matrix[row, col] = 1\n",
        "\n",
        "\n",
        "# adding -1 where adj_matrix[i, j] = 1 and adj_matrix[j, i] != 1\n",
        "for k1 in range(144):\n",
        "  for k2 in range(144):\n",
        "    if adj_matrix[k1, k2] == 1 and adj_matrix[k2, k1] == 0:\n",
        "      adj_matrix[k2, k1] = -1\n",
        "\n",
        "print(adj_matrix)\n"
      ]
    },
    {
      "cell_type": "code",
      "execution_count": null,
      "metadata": {
        "collapsed": true,
        "id": "YHbRNQCuPcnZ"
      },
      "outputs": [],
      "source": [
        "M = adj_matrix\n",
        "\n",
        "# Value of k\n",
        "K = 30\n",
        "\n",
        "# Initialize U and V\n",
        "U = np.random.rand(len(M), K)\n",
        "V = np.random.rand(K, len(M[0]))\n",
        "\n",
        "# Error calculation function\n",
        "def objective_func(M, generated_matrix, U, V, beta):\n",
        "    re = np.sum(U**2) + np.sum(V**2)\n",
        "    E = M - generated_matrix\n",
        "    E_squared = E**2\n",
        "    total_error = np.sum(E_squared[M != 0])\n",
        "    return total_error + beta*re\n",
        "\n",
        "# Function to update U and V\n",
        "def update_U_V(alpha, i, j, error, U, V, K, beta):\n",
        "    for k in range(K):\n",
        "        U[i, k] += alpha * (2 * error * V[k, j] - beta * U[i, k])\n",
        "        V[k, j] += alpha * (2 * error * U[i, k] - beta * V[k, j])\n",
        "    return U, V\n",
        "\n",
        "alpha = 0.001  # Reduced learning rate\n",
        "beta = 0.01    # Adjusted regularization term\n",
        "iterations = 200\n",
        "total_error_list = []\n",
        "\n",
        "# Main loop\n",
        "for l in range(iterations):\n",
        "    generated_matrix = np.dot(U, V)\n",
        "    total_error = objective_func(M, generated_matrix, U, V, beta)\n",
        "    for i in range(len(M)):\n",
        "        for j in range(len(M[0])):\n",
        "            if M[i, j] != 0:\n",
        "                error = M[i, j] - np.dot(U[i,:], V[:,j])\n",
        "                U, V = update_U_V(alpha, i, j, error, U, V, K, beta)\n",
        "\n",
        "    total_error_list.append(total_error)\n",
        "    print(f\"Iteration {l + 1}/{iterations}, Total Error: {total_error}\")\n",
        "\n",
        "print(total_error_list)\n"
      ]
    },
    {
      "cell_type": "code",
      "execution_count": 4,
      "metadata": {
        "colab": {
          "base_uri": "https://localhost:8080/",
          "height": 467
        },
        "id": "85FC9iHNXinn",
        "outputId": "7819be38-1a18-444b-a1a6-737054b75ed3"
      },
      "outputs": [
        {
          "output_type": "execute_result",
          "data": {
            "text/plain": [
              "Text(0, 0.5, 'loss')"
            ]
          },
          "metadata": {},
          "execution_count": 4
        },
        {
          "output_type": "display_data",
          "data": {
            "text/plain": [
              "<Figure size 640x480 with 1 Axes>"
            ],
            "image/png": "[encoded data removed]"
          },
          "metadata": {}
        }
      ],
      "source": [
        "import matplotlib.pyplot as plt\n",
        "plt.plot(np.arange(0, 199), total_error_list[1:])\n",
        "plt.xlabel(\"iterations\")\n",
        "plt.ylabel(\"loss\")"
      ]
    },
    {
      "cell_type": "code",
      "execution_count": null,
      "metadata": {
        "colab": {
          "base_uri": "https://localhost:8080/"
        },
        "id": "sedCeuNB-6QA",
        "outputId": "3a3121e6-2df2-4394-be73-e37af73001ee"
      },
      "outputs": [
        {
          "output_type": "execute_result",
          "data": {
            "text/plain": [
              "0.005385679246451349"
            ]
          },
          "metadata": {},
          "execution_count": 4
        }
      ],
      "source": [
        "#loss percentage\n",
        "total_error_list[-1]/total_error_list[1]"
      ]
    }
  ]
}